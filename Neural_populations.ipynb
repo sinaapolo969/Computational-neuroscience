{
 "cells": [
  {
   "attachments": {},
   "cell_type": "markdown",
   "id": "d4c0f9a8",
   "metadata": {},
   "source": [
    "# Neuron population connectios"
   ]
  },
  {
   "attachments": {},
   "cell_type": "markdown",
   "id": "8c1a3f5b",
   "metadata": {},
   "source": [
    "### import essential librarries"
   ]
  },
  {
   "cell_type": "code",
   "execution_count": 1,
   "id": "5afc22b9",
   "metadata": {},
   "outputs": [],
   "source": [
    "import synapticflow as sf\n",
    "import pandas as pd \n",
    "import numpy as np\n",
    "import matplotlib.pyplot as plt\n",
    "import torch\n",
    "import math"
   ]
  },
  {
   "attachments": {},
   "cell_type": "markdown",
   "id": "6c9db648",
   "metadata": {},
   "source": [
    "### preparing datasts"
   ]
  },
  {
   "cell_type": "code",
   "execution_count": 2,
   "id": "2716471e",
   "metadata": {},
   "outputs": [],
   "source": [
    "def constant_cuurent():\n",
    "    return [3000] * 1000"
   ]
  },
  {
   "cell_type": "code",
   "execution_count": 3,
   "id": "b20c76ca",
   "metadata": {},
   "outputs": [],
   "source": [
    "def step_current():\n",
    "    time = np.arange(1, 101, 0.05)\n",
    "    value = [1000.0]\n",
    "    j = 1\n",
    "    for i in range(1, len(time)):\n",
    "        if i % 500 == 0:\n",
    "            j += 1\n",
    "        value.append(j * 1000)\n",
    "    current = pd.DataFrame({'time' : time, \n",
    "                            'value' : value})\n",
    "    return current"
   ]
  },
  {
   "cell_type": "code",
   "execution_count": 104,
   "id": "a52009ec",
   "metadata": {},
   "outputs": [],
   "source": [
    "def sin_function(x):\n",
    "    return math.sin(x) * 1000 + 1000\n",
    "\n",
    "def sin_current():\n",
    "    time = np.arange(1, 101, 0.05)\n",
    "    value = []\n",
    "    j = 1\n",
    "    for i in range(len(time)):\n",
    "        value.append(sin_function(i))\n",
    "    current = pd.DataFrame({'time' : time, \n",
    "                            'value' : value})\n",
    "    return current"
   ]
  },
  {
   "cell_type": "code",
   "execution_count": 105,
   "id": "57e746b8",
   "metadata": {},
   "outputs": [],
   "source": [
    "def plot_current(df):\n",
    "  plt.figure(figsize = (6, 4))\n",
    "  plt.plot(df)\n",
    "  plt.xlabel('time(ms)')\n",
    "  plt.ylabel('current(pA)')"
   ]
  },
  {
   "attachments": {},
   "cell_type": "markdown",
   "id": "696bffc9",
   "metadata": {},
   "source": [
    "## 1 - Normal connection\n",
    "in this case, we connect all the neurons with a normal destribution together which.\n",
    "\n",
    "we first use constant current for our population"
   ]
  },
  {
   "cell_type": "code",
   "execution_count": 106,
   "id": "06abec0a",
   "metadata": {},
   "outputs": [],
   "source": [
    "# setting parameters\n",
    "number_nourons = 15\n",
    "dt = 1"
   ]
  },
  {
   "cell_type": "code",
   "execution_count": 56,
   "id": "a7785432",
   "metadata": {},
   "outputs": [],
   "source": [
    "neurons_1 = sf.LIFPopulation(n = number_nourons, dt = dt, tau_s= 10, refrac_length=0, R = 20)"
   ]
  },
  {
   "cell_type": "code",
   "execution_count": 57,
   "id": "d0000cdd",
   "metadata": {},
   "outputs": [],
   "source": [
    "# guassian_weight = torch.stack([torch.randn(number_nourons) for _ in range(number_nourons)], dim = 1)"
   ]
  },
  {
   "cell_type": "code",
   "execution_count": 58,
   "id": "0ca84cad",
   "metadata": {},
   "outputs": [],
   "source": [
    "# guassian_weight.shape"
   ]
  },
  {
   "cell_type": "code",
   "execution_count": 59,
   "id": "212a9d0a",
   "metadata": {},
   "outputs": [],
   "source": [
    "# run model.forward for our population with the connection mode\n",
    "def process(input_curr, connection, population):\n",
    "    inner_current = torch.zeros_like(torch.tensor([0] * 15))\n",
    "    spikes_n = []\n",
    "    voltage_n = []\n",
    "    for current in input_curr:\n",
    "        curr = torch.tensor([current] * 15) + inner_current\n",
    "        population.forward(curr)\n",
    "        spikes = population.s\n",
    "        voltage_n.append(population.v)\n",
    "        spikes_n.append(spikes)\n",
    "        inner_current = connection.compute(spikes)\n",
    "    return inner_current, population, spikes_n, voltage_n"
   ]
  },
  {
   "cell_type": "code",
   "execution_count": 60,
   "id": "e428762f",
   "metadata": {},
   "outputs": [],
   "source": [
    "connection = sf.Connection(pre=neurons_1, post=neurons_1)"
   ]
  },
  {
   "cell_type": "code",
   "execution_count": 61,
   "id": "2a7845a4",
   "metadata": {},
   "outputs": [],
   "source": [
    "current = constant_cuurent()"
   ]
  },
  {
   "cell_type": "code",
   "execution_count": 62,
   "id": "24b25838",
   "metadata": {},
   "outputs": [
    {
     "data": {
      "image/png": "[encoded data removed]",
      "text/plain": [
       "<Figure size 432x288 with 1 Axes>"
      ]
     },
     "metadata": {
      "needs_background": "light"
     },
     "output_type": "display_data"
    }
   ],
   "source": [
    "# plot the current\n",
    "plot_current(current)"
   ]
  },
  {
   "cell_type": "code",
   "execution_count": 63,
   "id": "22d52854",
   "metadata": {},
   "outputs": [],
   "source": [
    "population_inner_current, population, spikes, voltage = process(current, connection, neurons_1)"
   ]
  },
  {
   "cell_type": "code",
   "execution_count": 64,
   "id": "5a2b25bc",
   "metadata": {},
   "outputs": [
    {
     "data": {
      "text/plain": [
       "tensor([9.3028, 7.0521, 8.3836, 7.0938, 5.7215, 7.5187, 7.3563, 7.8031, 7.4545,\n",
       "        5.5970, 7.6460, 7.7902, 8.1542, 4.7087, 7.9813])"
      ]
     },
     "execution_count": 64,
     "metadata": {},
     "output_type": "execute_result"
    }
   ],
   "source": [
    "population_inner_current"
   ]
  },
  {
   "cell_type": "code",
   "execution_count": 65,
   "id": "380fa608",
   "metadata": {},
   "outputs": [
    {
     "data": {
      "image/png": "[encoded data removed]",
      "text/plain": [
       "<Figure size 432x288 with 1 Axes>"
      ]
     },
     "metadata": {
      "needs_background": "light"
     },
     "output_type": "display_data"
    }
   ],
   "source": [
    "# raster plot \n",
    "sf.raster_plot(spikes, dt = 1)"
   ]
  },
  {
   "attachments": {},
   "cell_type": "markdown",
   "id": "40d196cb",
   "metadata": {},
   "source": [
    "### try step current"
   ]
  },
  {
   "cell_type": "code",
   "execution_count": 66,
   "id": "b27ce598",
   "metadata": {},
   "outputs": [],
   "source": [
    "dt = 0.05"
   ]
  },
  {
   "cell_type": "code",
   "execution_count": 67,
   "id": "f1b0030e",
   "metadata": {},
   "outputs": [],
   "source": [
    "neurons_2 = sf.LIFPopulation(n = number_nourons, dt = dt, tau_s= 10, refrac_length=0, R = 20)"
   ]
  },
  {
   "cell_type": "code",
   "execution_count": 68,
   "id": "05b34e9b",
   "metadata": {},
   "outputs": [],
   "source": [
    "connection_1 = sf.Connection(pre=neurons_2, post=neurons_2)"
   ]
  },
  {
   "cell_type": "code",
   "execution_count": 69,
   "id": "957853ac",
   "metadata": {},
   "outputs": [],
   "source": [
    "step_curr = step_current()"
   ]
  },
  {
   "cell_type": "code",
   "execution_count": 70,
   "id": "cdbfbd43",
   "metadata": {},
   "outputs": [
    {
     "data": {
      "image/png": "[encoded data removed]",
      "text/plain": [
       "<Figure size 432x288 with 1 Axes>"
      ]
     },
     "metadata": {
      "needs_background": "light"
     },
     "output_type": "display_data"
    }
   ],
   "source": [
    "plot_current(step_curr)"
   ]
  },
  {
   "cell_type": "code",
   "execution_count": 71,
   "id": "6957c626",
   "metadata": {},
   "outputs": [],
   "source": [
    "population_inner_current, population, spikes, voltage = process(step_curr['value'], connection_1, neurons_2)"
   ]
  },
  {
   "cell_type": "code",
   "execution_count": 72,
   "id": "9fd00adb",
   "metadata": {},
   "outputs": [
    {
     "data": {
      "text/plain": [
       "tensor([7.6094, 8.4937, 6.1200, 6.6553, 7.6200, 9.7340, 6.6847, 5.5302, 7.3923,\n",
       "        7.9326, 6.0574, 8.8053, 7.3927, 8.5004, 6.4733])"
      ]
     },
     "execution_count": 72,
     "metadata": {},
     "output_type": "execute_result"
    }
   ],
   "source": [
    "population_inner_current"
   ]
  },
  {
   "cell_type": "code",
   "execution_count": 73,
   "id": "4e9d2672",
   "metadata": {},
   "outputs": [
    {
     "data": {
      "image/png": "[encoded data removed]",
      "text/plain": [
       "<Figure size 432x288 with 1 Axes>"
      ]
     },
     "metadata": {
      "needs_background": "light"
     },
     "output_type": "display_data"
    }
   ],
   "source": [
    "sf.raster_plot(spikes, dt = 0.05)"
   ]
  },
  {
   "attachments": {},
   "cell_type": "markdown",
   "id": "714c6f9d",
   "metadata": {},
   "source": [
    "### sin current"
   ]
  },
  {
   "cell_type": "code",
   "execution_count": 107,
   "id": "37f1781c",
   "metadata": {},
   "outputs": [],
   "source": [
    "dt = 0.05"
   ]
  },
  {
   "cell_type": "code",
   "execution_count": 108,
   "id": "97c55294",
   "metadata": {},
   "outputs": [],
   "source": [
    "neurons_3 = sf.LIFPopulation(n = 15, dt = dt, refrac_length=0)"
   ]
  },
  {
   "cell_type": "code",
   "execution_count": 109,
   "id": "16f88094",
   "metadata": {},
   "outputs": [],
   "source": [
    "current = sin_current()"
   ]
  },
  {
   "cell_type": "code",
   "execution_count": 110,
   "id": "72a2bc2e",
   "metadata": {},
   "outputs": [
    {
     "data": {
      "text/plain": [
       "<matplotlib.lines.Line2D at 0x24a74379c30>"
      ]
     },
     "execution_count": 110,
     "metadata": {},
     "output_type": "execute_result"
    },
    {
     "data": {
      "image/png": "[encoded data removed]",
      "text/plain": [
       "<Figure size 432x288 with 1 Axes>"
      ]
     },
     "metadata": {
      "needs_background": "light"
     },
     "output_type": "display_data"
    }
   ],
   "source": [
    "plt.plot(current[:50])[0]"
   ]
  },
  {
   "cell_type": "code",
   "execution_count": 111,
   "id": "80c55670",
   "metadata": {},
   "outputs": [],
   "source": [
    "connection_2 = sf.Connection(pre=neurons_3, post=neurons_3)"
   ]
  },
  {
   "cell_type": "code",
   "execution_count": 112,
   "id": "a2c1a2c2",
   "metadata": {},
   "outputs": [],
   "source": [
    "population_inner_current, population, spikes, voltage = process(current['value'], connection_2, neurons_3)"
   ]
  },
  {
   "cell_type": "code",
   "execution_count": 113,
   "id": "789e0902",
   "metadata": {},
   "outputs": [
    {
     "data": {
      "text/plain": [
       "tensor([6.7814, 7.6466, 7.6069, 8.2811, 7.3797, 9.2695, 6.9541, 4.9389, 9.4164,\n",
       "        8.4023, 6.5268, 6.7785, 8.2190, 6.2680, 8.9733])"
      ]
     },
     "execution_count": 113,
     "metadata": {},
     "output_type": "execute_result"
    }
   ],
   "source": [
    "population_inner_current"
   ]
  },
  {
   "cell_type": "code",
   "execution_count": 114,
   "id": "97c654e0",
   "metadata": {},
   "outputs": [
    {
     "data": {
      "image/png": "[encoded data removed]",
      "text/plain": [
       "<Figure size 432x288 with 1 Axes>"
      ]
     },
     "metadata": {
      "needs_background": "light"
     },
     "output_type": "display_data"
    }
   ],
   "source": [
    "sf.plot_potential(voltage, dt = 0.05)"
   ]
  },
  {
   "cell_type": "code",
   "execution_count": 115,
   "id": "5808b528",
   "metadata": {},
   "outputs": [
    {
     "data": {
      "image/png": "[encoded data removed]",
      "text/plain": [
       "<Figure size 432x288 with 1 Axes>"
      ]
     },
     "metadata": {
      "needs_background": "light"
     },
     "output_type": "display_data"
    }
   ],
   "source": [
    "sf.raster_plot(spikes, dt = 0.05)"
   ]
  },
  {
   "attachments": {},
   "cell_type": "markdown",
   "id": "28797d4c",
   "metadata": {},
   "source": [
    "## Guassian connection \n",
    "we first try constant current"
   ]
  },
  {
   "cell_type": "code",
   "execution_count": null,
   "id": "8636c176",
   "metadata": {},
   "outputs": [],
   "source": []
  },
  {
   "cell_type": "code",
   "execution_count": 132,
   "id": "1945c963",
   "metadata": {},
   "outputs": [],
   "source": [
    "guassian_weight = torch.stack([abs(torch.randn(number_nourons) * 100) for _ in range(number_nourons)], dim = 1)"
   ]
  },
  {
   "cell_type": "code",
   "execution_count": 133,
   "id": "d99457fd",
   "metadata": {},
   "outputs": [],
   "source": [
    "current = constant_cuurent()"
   ]
  },
  {
   "cell_type": "code",
   "execution_count": 134,
   "id": "21c24c73",
   "metadata": {},
   "outputs": [],
   "source": [
    "dt = 1"
   ]
  },
  {
   "cell_type": "code",
   "execution_count": 135,
   "id": "1b224f1d",
   "metadata": {},
   "outputs": [],
   "source": [
    "neurons_G1 = sf.LIFPopulation(n = 15, dt = dt)"
   ]
  },
  {
   "cell_type": "code",
   "execution_count": 136,
   "id": "d105fdf4",
   "metadata": {},
   "outputs": [],
   "source": [
    "connection_G1 = sf.Connection(pre = neurons_G1, post=neurons_G1, w = guassian_weight)"
   ]
  },
  {
   "cell_type": "code",
   "execution_count": 137,
   "id": "29b37060",
   "metadata": {},
   "outputs": [],
   "source": [
    "population_inner_current, population, spikes, voltage = process(current, connection_G1, neurons_G1)"
   ]
  },
  {
   "cell_type": "code",
   "execution_count": 138,
   "id": "46c7d71e",
   "metadata": {},
   "outputs": [
    {
     "data": {
      "text/plain": [
       "tensor([0., 0., 0., 0., 0., 0., 0., 0., 0., 0., 0., 0., 0., 0., 0.])"
      ]
     },
     "execution_count": 138,
     "metadata": {},
     "output_type": "execute_result"
    }
   ],
   "source": [
    "population_inner_current"
   ]
  },
  {
   "cell_type": "code",
   "execution_count": 139,
   "id": "cca17bc3",
   "metadata": {},
   "outputs": [
    {
     "data": {
      "image/png": "[encoded data removed]",
      "text/plain": [
       "<Figure size 432x288 with 1 Axes>"
      ]
     },
     "metadata": {
      "needs_background": "light"
     },
     "output_type": "display_data"
    }
   ],
   "source": [
    "sf.raster_plot(spikes, dt = 1)"
   ]
  },
  {
   "attachments": {},
   "cell_type": "markdown",
   "id": "d0433090",
   "metadata": {},
   "source": [
    "### try step current"
   ]
  },
  {
   "cell_type": "code",
   "execution_count": 141,
   "id": "6be428bb",
   "metadata": {},
   "outputs": [],
   "source": [
    "dt = 0.05"
   ]
  },
  {
   "cell_type": "code",
   "execution_count": 143,
   "id": "78e54bb1",
   "metadata": {},
   "outputs": [],
   "source": [
    "neurons_G2 = sf.LIFPopulation(n = 15, dt = dt)"
   ]
  },
  {
   "cell_type": "code",
   "execution_count": 144,
   "id": "27510e68",
   "metadata": {},
   "outputs": [],
   "source": [
    "connection_G2 = sf.Connection(pre = neurons_G2, post=neurons_G2, w = guassian_weight)"
   ]
  },
  {
   "cell_type": "code",
   "execution_count": 145,
   "id": "5efce4bc",
   "metadata": {},
   "outputs": [],
   "source": [
    "current = step_current()"
   ]
  },
  {
   "cell_type": "code",
   "execution_count": 147,
   "id": "9ce7d5e5",
   "metadata": {},
   "outputs": [],
   "source": [
    "population_inner_current, population, spikes, voltage = process(current['value'], connection_G2, neurons_G2)"
   ]
  },
  {
   "cell_type": "code",
   "execution_count": 148,
   "id": "291955e8",
   "metadata": {},
   "outputs": [
    {
     "data": {
      "text/plain": [
       "tensor([0., 0., 0., 0., 0., 0., 0., 0., 0., 0., 0., 0., 0., 0., 0.])"
      ]
     },
     "execution_count": 148,
     "metadata": {},
     "output_type": "execute_result"
    }
   ],
   "source": [
    "population_inner_current"
   ]
  },
  {
   "cell_type": "code",
   "execution_count": 150,
   "id": "8327f6ab",
   "metadata": {},
   "outputs": [
    {
     "data": {
      "image/png": "[encoded data removed]",
      "text/plain": [
       "<Figure size 432x288 with 1 Axes>"
      ]
     },
     "metadata": {
      "needs_background": "light"
     },
     "output_type": "display_data"
    }
   ],
   "source": [
    "sf.raster_plot(spikes, dt = 0.05)"
   ]
  },
  {
   "attachments": {},
   "cell_type": "markdown",
   "id": "158d7b71",
   "metadata": {},
   "source": [
    "### try sin current"
   ]
  },
  {
   "cell_type": "code",
   "execution_count": null,
   "id": "69d7ed34",
   "metadata": {},
   "outputs": [],
   "source": [
    "dt = 0.05"
   ]
  },
  {
   "cell_type": "code",
   "execution_count": 151,
   "id": "a9fa3f42",
   "metadata": {},
   "outputs": [],
   "source": [
    "neurons_G3 = sf.LIFPopulation(n = 15, dt = dt)"
   ]
  },
  {
   "cell_type": "code",
   "execution_count": 152,
   "id": "aa1abd31",
   "metadata": {},
   "outputs": [],
   "source": [
    "connection_G3 = sf.Connection(pre=neurons_G3, post=neurons_G3, w = guassian_weight)"
   ]
  },
  {
   "cell_type": "code",
   "execution_count": 153,
   "id": "9fd6a8fd",
   "metadata": {},
   "outputs": [],
   "source": [
    "current = sin_current()"
   ]
  },
  {
   "cell_type": "code",
   "execution_count": 154,
   "id": "b07f2270",
   "metadata": {},
   "outputs": [],
   "source": [
    "population_inner_current, population, spikes, voltage = process(current['value'], connection_G3, neurons_G3)"
   ]
  },
  {
   "cell_type": "code",
   "execution_count": 155,
   "id": "01fa1120",
   "metadata": {},
   "outputs": [
    {
     "data": {
      "text/plain": [
       "tensor([0., 0., 0., 0., 0., 0., 0., 0., 0., 0., 0., 0., 0., 0., 0.])"
      ]
     },
     "execution_count": 155,
     "metadata": {},
     "output_type": "execute_result"
    }
   ],
   "source": [
    "population_inner_current"
   ]
  },
  {
   "cell_type": "code",
   "execution_count": 156,
   "id": "26934526",
   "metadata": {},
   "outputs": [
    {
     "data": {
      "image/png": "[encoded data removed]",
      "text/plain": [
       "<Figure size 432x288 with 1 Axes>"
      ]
     },
     "metadata": {
      "needs_background": "light"
     },
     "output_type": "display_data"
    }
   ],
   "source": [
    "sf.raster_plot(spikes, dt = 0.05)"
   ]
  },
  {
   "attachments": {},
   "cell_type": "markdown",
   "id": "86ec179e",
   "metadata": {},
   "source": [
    "## ALL to ALL connection scaling with number of neurons"
   ]
  },
  {
   "cell_type": "code",
   "execution_count": 157,
   "id": "239e0ecc",
   "metadata": {},
   "outputs": [],
   "source": [
    "J0 = 5\n",
    "N = 15"
   ]
  },
  {
   "cell_type": "code",
   "execution_count": 161,
   "id": "746731ef",
   "metadata": {},
   "outputs": [],
   "source": [
    "weights = torch.stack([torch.tensor([J0 / N] * N) for _ in range(N)], dim = 1)"
   ]
  },
  {
   "attachments": {},
   "cell_type": "markdown",
   "id": "0a7322f6",
   "metadata": {},
   "source": [
    "we will start with constant current."
   ]
  },
  {
   "cell_type": "code",
   "execution_count": 165,
   "id": "f9b04234",
   "metadata": {},
   "outputs": [],
   "source": [
    "current = constant_cuurent()"
   ]
  },
  {
   "cell_type": "code",
   "execution_count": 166,
   "id": "c8601145",
   "metadata": {},
   "outputs": [],
   "source": [
    "dt = 1"
   ]
  },
  {
   "cell_type": "code",
   "execution_count": 167,
   "id": "95cd0537",
   "metadata": {},
   "outputs": [],
   "source": [
    "neurons_A1 = sf.LIFPopulation(n = N, dt = dt)"
   ]
  },
  {
   "cell_type": "code",
   "execution_count": 168,
   "id": "e39daac8",
   "metadata": {},
   "outputs": [],
   "source": [
    "connection_A1 = sf.Connection(pre =neurons_A1, post = neurons_A1, w = weights)"
   ]
  },
  {
   "cell_type": "code",
   "execution_count": 169,
   "id": "7e194308",
   "metadata": {},
   "outputs": [],
   "source": [
    "population_inner_current, population, spikes, voltage = process(current, connection_A1, neurons_A1)"
   ]
  },
  {
   "cell_type": "code",
   "execution_count": 170,
   "id": "c1ee526c",
   "metadata": {},
   "outputs": [
    {
     "data": {
      "text/plain": [
       "tensor([0., 0., 0., 0., 0., 0., 0., 0., 0., 0., 0., 0., 0., 0., 0.])"
      ]
     },
     "execution_count": 170,
     "metadata": {},
     "output_type": "execute_result"
    }
   ],
   "source": [
    "population_inner_current"
   ]
  },
  {
   "cell_type": "code",
   "execution_count": 173,
   "id": "0f59c4dd",
   "metadata": {},
   "outputs": [
    {
     "data": {
      "image/png": "[encoded data removed]",
      "text/plain": [
       "<Figure size 432x288 with 1 Axes>"
      ]
     },
     "metadata": {
      "needs_background": "light"
     },
     "output_type": "display_data"
    }
   ],
   "source": [
    "sf.raster_plot(spikes, dt = 1)"
   ]
  },
  {
   "attachments": {},
   "cell_type": "markdown",
   "id": "90231858",
   "metadata": {},
   "source": [
    "# Question 2"
   ]
  },
  {
   "cell_type": "code",
   "execution_count": 2,
   "id": "07731e45",
   "metadata": {},
   "outputs": [],
   "source": [
    "import torch\n",
    "import synapticflow as sf\n",
    "import math"
   ]
  },
  {
   "cell_type": "code",
   "execution_count": 9,
   "id": "1c40d367",
   "metadata": {},
   "outputs": [],
   "source": [
    "# generate the popolations \n",
    "population_E1, population_E2 = sf.LIFPopulation(n = 5), sf.LIFPopulation(n = 5)\n",
    "population_I = sf.LIFPopulation(n = 5, is_inhibitory=True)"
   ]
  },
  {
   "cell_type": "code",
   "execution_count": 10,
   "id": "15ba8e20",
   "metadata": {},
   "outputs": [],
   "source": [
    "#set the connections between the individual population neurons(normal weights)\n",
    "connection_I = sf.Connection(pre = population_I, post=population_I)\n",
    "connection_E1 = sf.Connection(pre = population_E1, post=population_E1)\n",
    "connection_E2 = sf.Connection(pre=population_E2, post = population_E2)"
   ]
  },
  {
   "cell_type": "code",
   "execution_count": 13,
   "id": "1a5f63cc",
   "metadata": {},
   "outputs": [],
   "source": [
    "# set the connection with other neurons populations\n",
    "connection_IE1 = sf.Connection(pre = population_I, post = population_E1)\n",
    "connection_EI1 = sf.Connection(pre = population_E1, post=population_I)\n",
    "connection_IE2 = sf.Connection(pre = population_I, post=population_E2)\n",
    "connection_EI2 = sf.Connection(pre = population_E2, post = population_I)"
   ]
  },
  {
   "cell_type": "code",
   "execution_count": null,
   "id": "a8d3a241",
   "metadata": {},
   "outputs": [],
   "source": [
    "def process(current1 , current2):\n",
    "    spikes_E1 = []\n",
    "    spikes_E2 = []\n",
    "    spikes_I = []\n",
    "    inner_current1 = torch.zeros_like(torch.tensor([0] * 5))\n",
    "    inner_current2 = torch.zeros_like(torch.tensor([0] * 5))\n",
    "    for i in range(len(current1)):\n",
    "        # E1\n",
    "        curr1 = torch.tensor([current1[i]] * 5) + inner_current1\n",
    "        spikes_e1 = population_E1.forward(curr1)\n",
    "        # E2\n",
    "        curr2 = torch.tensor([current2[i]] * 5) + inner_current2\n",
    "        spikes_e2 = population_E2.forward(curr2)\n",
    "        # EI1\n",
    "        # I\n",
    "        # EI2\n",
    "        # I\n",
    "        # IE1\n",
    "        # IE1"
   ]
  }
 ],
 "metadata": {
  "kernelspec": {
   "display_name": "Python 3 (ipykernel)",
   "language": "python",
   "name": "python3"
  },
  "language_info": {
   "codemirror_mode": {
    "name": "ipython",
    "version": 3
   },
   "file_extension": ".py",
   "mimetype": "text/x-python",
   "name": "python",
   "nbconvert_exporter": "python",
   "pygments_lexer": "ipython3",
   "version": "3.10.7"
  }
 },
 "nbformat": 4,
 "nbformat_minor": 5
}
