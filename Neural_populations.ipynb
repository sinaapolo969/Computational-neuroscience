{
 "cells": [
  {
   "attachments": {},
   "cell_type": "markdown",
   "id": "d4c0f9a8",
   "metadata": {},
   "source": [
    "# Neuron population connectios"
   ]
  },
  {
   "attachments": {},
   "cell_type": "markdown",
   "id": "8c1a3f5b",
   "metadata": {},
   "source": [
    "### import essential librarries"
   ]
  },
  {
   "cell_type": "code",
   "execution_count": 1,
   "id": "5afc22b9",
   "metadata": {},
   "outputs": [],
   "source": [
    "import synapticflow as sf\n",
    "import pandas as pd \n",
    "import numpy as np\n",
    "import matplotlib.pyplot as plt\n",
    "import torch\n",
    "import math"
   ]
  },
  {
   "attachments": {},
   "cell_type": "markdown",
   "id": "6c9db648",
   "metadata": {},
   "source": [
    "### preparing datasts"
   ]
  },
  {
   "cell_type": "code",
   "execution_count": 17,
   "id": "2716471e",
   "metadata": {},
   "outputs": [],
   "source": [
    "def constant_cuurent():\n",
    "    return [30] * 1000"
   ]
  },
  {
   "cell_type": "code",
   "execution_count": 20,
   "id": "b20c76ca",
   "metadata": {},
   "outputs": [],
   "source": [
    "def step_current():\n",
    "    time = np.arange(1, 101, 0.05)\n",
    "    value = [10.0]\n",
    "    j = 1\n",
    "    for i in range(1, len(time)):\n",
    "        if i % 500 == 0:\n",
    "            j += 1\n",
    "        value.append(j * 10)\n",
    "    current = pd.DataFrame({'time' : time, \n",
    "                            'value' : value})\n",
    "    return current"
   ]
  },
  {
   "cell_type": "code",
   "execution_count": 21,
   "id": "a52009ec",
   "metadata": {},
   "outputs": [],
   "source": [
    "def sin_function(x):\n",
    "    return math.sin(x) * 10 + 10\n",
    "\n",
    "def sin_current():\n",
    "    time = np.arange(1, 101, 0.05)\n",
    "    value = []\n",
    "    j = 1\n",
    "    for i in range(len(time)):\n",
    "        value.append(sin_function(i))\n",
    "    current = pd.DataFrame({'time' : time, \n",
    "                            'value' : value})\n",
    "    return current"
   ]
  },
  {
   "cell_type": "code",
   "execution_count": 22,
   "id": "57e746b8",
   "metadata": {},
   "outputs": [],
   "source": [
    "def plot_current(df):\n",
    "  plt.figure(figsize = (6, 4))\n",
    "  plt.plot(df)\n",
    "  plt.xlabel('time(ms)')\n",
    "  plt.ylabel('current(pA)')"
   ]
  },
  {
   "attachments": {},
   "cell_type": "markdown",
   "id": "696bffc9",
   "metadata": {},
   "source": [
    "## 1 - Random cooenction:  Fixed coupling probability"
   ]
  },
  {
   "cell_type": "code",
   "execution_count": 23,
   "id": "06abec0a",
   "metadata": {},
   "outputs": [],
   "source": [
    "# setting parameters\n",
    "number_nourons = 15\n",
    "dt = 1"
   ]
  },
  {
   "cell_type": "code",
   "execution_count": 24,
   "id": "a7785432",
   "metadata": {},
   "outputs": [],
   "source": [
    "neurons_1 = sf.LIFPopulation(n = number_nourons, dt = dt, tau_s= 10, refrac_length=0, R = 20)"
   ]
  },
  {
   "cell_type": "code",
   "execution_count": 25,
   "id": "212a9d0a",
   "metadata": {},
   "outputs": [],
   "source": [
    "# run model.forward for our population with the connection mode\n",
    "def process(input_curr, connection, population):\n",
    "    inner_current = torch.zeros_like(torch.tensor([0] * 15))\n",
    "    spikes_n = []\n",
    "    voltage_n = []\n",
    "    for current in input_curr:\n",
    "        curr = torch.tensor([current] * 15) + inner_current\n",
    "        population.forward(curr)\n",
    "        spikes = population.s\n",
    "        voltage_n.append(population.v)\n",
    "        spikes_n.append(spikes)\n",
    "        inner_current = connection.compute(spikes)\n",
    "    return inner_current, population, spikes_n, voltage_n"
   ]
  },
  {
   "cell_type": "code",
   "execution_count": 26,
   "id": "e428762f",
   "metadata": {},
   "outputs": [],
   "source": [
    "connection = sf.SparseConnection(pre=neurons_1, post=neurons_1)"
   ]
  },
  {
   "cell_type": "code",
   "execution_count": 27,
   "id": "2a7845a4",
   "metadata": {},
   "outputs": [],
   "source": [
    "current = constant_cuurent()"
   ]
  },
  {
   "cell_type": "code",
   "execution_count": 28,
   "id": "24b25838",
   "metadata": {},
   "outputs": [
    {
     "data": {
      "image/png": "[encoded data removed]",
      "text/plain": [
       "<Figure size 432x288 with 1 Axes>"
      ]
     },
     "metadata": {
      "needs_background": "light"
     },
     "output_type": "display_data"
    }
   ],
   "source": [
    "# plot the current\n",
    "plot_current(current)"
   ]
  },
  {
   "cell_type": "code",
   "execution_count": 29,
   "id": "22d52854",
   "metadata": {},
   "outputs": [],
   "source": [
    "population_inner_current, population, spikes, voltage = process(current, connection, neurons_1)"
   ]
  },
  {
   "cell_type": "code",
   "execution_count": 30,
   "id": "5a2b25bc",
   "metadata": {},
   "outputs": [
    {
     "data": {
      "text/plain": [
       "tensor([1.9315, 2.7585, 1.8633, 2.2398, 1.3423, 0.3574, 3.4220, 3.3037, 3.4234,\n",
       "        2.8021, 3.5317, 2.6812, 1.3231, 2.4675, 1.4337])"
      ]
     },
     "execution_count": 30,
     "metadata": {},
     "output_type": "execute_result"
    }
   ],
   "source": [
    "population_inner_current"
   ]
  },
  {
   "cell_type": "code",
   "execution_count": 31,
   "id": "380fa608",
   "metadata": {},
   "outputs": [
    {
     "data": {
      "image/png": "[encoded data removed]",
      "text/plain": [
       "<Figure size 432x288 with 1 Axes>"
      ]
     },
     "metadata": {
      "needs_background": "light"
     },
     "output_type": "display_data"
    }
   ],
   "source": [
    "# raster plot \n",
    "sf.raster_plot(spikes, dt = 1)"
   ]
  },
  {
   "attachments": {},
   "cell_type": "markdown",
   "id": "40d196cb",
   "metadata": {},
   "source": [
    "### try step current"
   ]
  },
  {
   "cell_type": "code",
   "execution_count": 32,
   "id": "b27ce598",
   "metadata": {},
   "outputs": [],
   "source": [
    "dt = 0.05"
   ]
  },
  {
   "cell_type": "code",
   "execution_count": 50,
   "id": "f1b0030e",
   "metadata": {},
   "outputs": [],
   "source": [
    "neurons_2 = sf.LIFPopulation(n = number_nourons, dt = dt, tau_s= 10, refrac_length=0, R = 20)"
   ]
  },
  {
   "cell_type": "code",
   "execution_count": 51,
   "id": "05b34e9b",
   "metadata": {},
   "outputs": [],
   "source": [
    "connection_1 = sf.SparseConnection(pre=neurons_2, post=neurons_2)"
   ]
  },
  {
   "cell_type": "code",
   "execution_count": 52,
   "id": "957853ac",
   "metadata": {},
   "outputs": [],
   "source": [
    "step_curr = step_current()"
   ]
  },
  {
   "cell_type": "code",
   "execution_count": 53,
   "id": "cdbfbd43",
   "metadata": {},
   "outputs": [
    {
     "data": {
      "image/png": "[encoded data removed]",
      "text/plain": [
       "<Figure size 432x288 with 1 Axes>"
      ]
     },
     "metadata": {
      "needs_background": "light"
     },
     "output_type": "display_data"
    }
   ],
   "source": [
    "plot_current(step_curr)"
   ]
  },
  {
   "cell_type": "code",
   "execution_count": 54,
   "id": "6957c626",
   "metadata": {},
   "outputs": [],
   "source": [
    "population_inner_current, population, spikes, voltage = process(step_curr['value'], connection_1, neurons_2)"
   ]
  },
  {
   "cell_type": "code",
   "execution_count": 55,
   "id": "9fd00adb",
   "metadata": {},
   "outputs": [
    {
     "data": {
      "text/plain": [
       "tensor([0.0000, 0.0000, 0.0000, 0.0000, 0.0000, 0.0000, 0.0000, 0.3742, 0.0000,\n",
       "        0.0000, 0.0000, 0.4533, 0.0000, 0.7428, 0.4601])"
      ]
     },
     "execution_count": 55,
     "metadata": {},
     "output_type": "execute_result"
    }
   ],
   "source": [
    "population_inner_current"
   ]
  },
  {
   "cell_type": "code",
   "execution_count": 56,
   "id": "4e9d2672",
   "metadata": {},
   "outputs": [
    {
     "data": {
      "image/png": "[encoded data removed]",
      "text/plain": [
       "<Figure size 432x288 with 1 Axes>"
      ]
     },
     "metadata": {
      "needs_background": "light"
     },
     "output_type": "display_data"
    }
   ],
   "source": [
    "sf.raster_plot(spikes, dt = 0.05)"
   ]
  },
  {
   "attachments": {},
   "cell_type": "markdown",
   "id": "714c6f9d",
   "metadata": {},
   "source": [
    "### sin current"
   ]
  },
  {
   "cell_type": "code",
   "execution_count": 57,
   "id": "37f1781c",
   "metadata": {},
   "outputs": [],
   "source": [
    "dt = 0.05"
   ]
  },
  {
   "cell_type": "code",
   "execution_count": 58,
   "id": "97c55294",
   "metadata": {},
   "outputs": [],
   "source": [
    "neurons_3 = sf.LIFPopulation(n = 15, dt = dt, refrac_length=0)"
   ]
  },
  {
   "cell_type": "code",
   "execution_count": 59,
   "id": "16f88094",
   "metadata": {},
   "outputs": [],
   "source": [
    "current = sin_current()"
   ]
  },
  {
   "cell_type": "code",
   "execution_count": 60,
   "id": "72a2bc2e",
   "metadata": {},
   "outputs": [
    {
     "data": {
      "text/plain": [
       "<matplotlib.lines.Line2D at 0x1cc577bbd90>"
      ]
     },
     "execution_count": 60,
     "metadata": {},
     "output_type": "execute_result"
    },
    {
     "data": {
      "image/png": "[encoded data removed]",
      "text/plain": [
       "<Figure size 432x288 with 1 Axes>"
      ]
     },
     "metadata": {
      "needs_background": "light"
     },
     "output_type": "display_data"
    }
   ],
   "source": [
    "plt.plot(current[:50])[0]"
   ]
  },
  {
   "cell_type": "code",
   "execution_count": 61,
   "id": "80c55670",
   "metadata": {},
   "outputs": [],
   "source": [
    "connection_2 = sf.SparseConnection(pre=neurons_3, post=neurons_3)"
   ]
  },
  {
   "cell_type": "code",
   "execution_count": 62,
   "id": "a2c1a2c2",
   "metadata": {},
   "outputs": [],
   "source": [
    "population_inner_current, population, spikes, voltage = process(current['value'], connection_2, neurons_3)"
   ]
  },
  {
   "cell_type": "code",
   "execution_count": 63,
   "id": "789e0902",
   "metadata": {},
   "outputs": [
    {
     "data": {
      "text/plain": [
       "tensor([0., 0., 0., 0., 0., 0., 0., 0., 0., 0., 0., 0., 0., 0., 0.])"
      ]
     },
     "execution_count": 63,
     "metadata": {},
     "output_type": "execute_result"
    }
   ],
   "source": [
    "population_inner_current"
   ]
  },
  {
   "cell_type": "code",
   "execution_count": 64,
   "id": "97c654e0",
   "metadata": {},
   "outputs": [
    {
     "data": {
      "image/png": "[encoded data removed]",
      "text/plain": [
       "<Figure size 432x288 with 1 Axes>"
      ]
     },
     "metadata": {
      "needs_background": "light"
     },
     "output_type": "display_data"
    }
   ],
   "source": [
    "sf.plot_potential(voltage, dt = 0.05)"
   ]
  },
  {
   "cell_type": "code",
   "execution_count": 65,
   "id": "5808b528",
   "metadata": {},
   "outputs": [
    {
     "data": {
      "image/png": "[encoded data removed]",
      "text/plain": [
       "<Figure size 432x288 with 1 Axes>"
      ]
     },
     "metadata": {
      "needs_background": "light"
     },
     "output_type": "display_data"
    }
   ],
   "source": [
    "sf.raster_plot(spikes, dt = 0.05)"
   ]
  },
  {
   "attachments": {},
   "cell_type": "markdown",
   "id": "28797d4c",
   "metadata": {},
   "source": [
    "## Fully connected : Guassian distribution\n",
    "we first try constant current"
   ]
  },
  {
   "cell_type": "code",
   "execution_count": 66,
   "id": "1945c963",
   "metadata": {},
   "outputs": [],
   "source": [
    "guassian_weight = torch.stack([abs(torch.randn(number_nourons)) for _ in range(number_nourons)], dim = 1)"
   ]
  },
  {
   "cell_type": "code",
   "execution_count": 67,
   "id": "d99457fd",
   "metadata": {},
   "outputs": [],
   "source": [
    "current = constant_cuurent()"
   ]
  },
  {
   "cell_type": "code",
   "execution_count": 68,
   "id": "21c24c73",
   "metadata": {},
   "outputs": [],
   "source": [
    "dt = 1"
   ]
  },
  {
   "cell_type": "code",
   "execution_count": 69,
   "id": "1b224f1d",
   "metadata": {},
   "outputs": [],
   "source": [
    "neurons_G1 = sf.LIFPopulation(n = 15, dt = dt)"
   ]
  },
  {
   "cell_type": "code",
   "execution_count": 70,
   "id": "d105fdf4",
   "metadata": {},
   "outputs": [],
   "source": [
    "connection_G1 = sf.Connection(pre = neurons_G1, post=neurons_G1, w = guassian_weight)"
   ]
  },
  {
   "cell_type": "code",
   "execution_count": 71,
   "id": "29b37060",
   "metadata": {},
   "outputs": [],
   "source": [
    "population_inner_current, population, spikes, voltage = process(current, connection_G1, neurons_G1)"
   ]
  },
  {
   "cell_type": "code",
   "execution_count": 72,
   "id": "46c7d71e",
   "metadata": {},
   "outputs": [
    {
     "data": {
      "text/plain": [
       "tensor([0., 0., 0., 0., 0., 0., 0., 0., 0., 0., 0., 0., 0., 0., 0.])"
      ]
     },
     "execution_count": 72,
     "metadata": {},
     "output_type": "execute_result"
    }
   ],
   "source": [
    "population_inner_current"
   ]
  },
  {
   "cell_type": "code",
   "execution_count": 73,
   "id": "cca17bc3",
   "metadata": {},
   "outputs": [
    {
     "data": {
      "image/png": "[encoded data removed]",
      "text/plain": [
       "<Figure size 432x288 with 1 Axes>"
      ]
     },
     "metadata": {
      "needs_background": "light"
     },
     "output_type": "display_data"
    }
   ],
   "source": [
    "sf.raster_plot(spikes, dt = 1)"
   ]
  },
  {
   "attachments": {},
   "cell_type": "markdown",
   "id": "d0433090",
   "metadata": {},
   "source": [
    "### try step current"
   ]
  },
  {
   "cell_type": "code",
   "execution_count": 74,
   "id": "6be428bb",
   "metadata": {},
   "outputs": [],
   "source": [
    "dt = 0.05"
   ]
  },
  {
   "cell_type": "code",
   "execution_count": 75,
   "id": "78e54bb1",
   "metadata": {},
   "outputs": [],
   "source": [
    "neurons_G2 = sf.LIFPopulation(n = 15, dt = dt)"
   ]
  },
  {
   "cell_type": "code",
   "execution_count": 76,
   "id": "27510e68",
   "metadata": {},
   "outputs": [],
   "source": [
    "connection_G2 = sf.Connection(pre = neurons_G2, post=neurons_G2, w = guassian_weight)"
   ]
  },
  {
   "cell_type": "code",
   "execution_count": 77,
   "id": "5efce4bc",
   "metadata": {},
   "outputs": [],
   "source": [
    "current = step_current()"
   ]
  },
  {
   "cell_type": "code",
   "execution_count": 78,
   "id": "9ce7d5e5",
   "metadata": {},
   "outputs": [],
   "source": [
    "population_inner_current, population, spikes, voltage = process(current['value'], connection_G2, neurons_G2)"
   ]
  },
  {
   "cell_type": "code",
   "execution_count": 79,
   "id": "291955e8",
   "metadata": {},
   "outputs": [
    {
     "data": {
      "text/plain": [
       "tensor([0., 0., 0., 0., 0., 0., 0., 0., 0., 0., 0., 0., 0., 0., 0.])"
      ]
     },
     "execution_count": 79,
     "metadata": {},
     "output_type": "execute_result"
    }
   ],
   "source": [
    "population_inner_current"
   ]
  },
  {
   "cell_type": "code",
   "execution_count": 80,
   "id": "8327f6ab",
   "metadata": {},
   "outputs": [
    {
     "data": {
      "image/png": "[encoded data removed]",
      "text/plain": [
       "<Figure size 432x288 with 1 Axes>"
      ]
     },
     "metadata": {
      "needs_background": "light"
     },
     "output_type": "display_data"
    }
   ],
   "source": [
    "sf.raster_plot(spikes, dt = 0.05)"
   ]
  },
  {
   "attachments": {},
   "cell_type": "markdown",
   "id": "158d7b71",
   "metadata": {},
   "source": [
    "### try sin current"
   ]
  },
  {
   "cell_type": "code",
   "execution_count": 81,
   "id": "69d7ed34",
   "metadata": {},
   "outputs": [],
   "source": [
    "dt = 0.05"
   ]
  },
  {
   "cell_type": "code",
   "execution_count": 82,
   "id": "a9fa3f42",
   "metadata": {},
   "outputs": [],
   "source": [
    "neurons_G3 = sf.LIFPopulation(n = 15, dt = dt)"
   ]
  },
  {
   "cell_type": "code",
   "execution_count": 83,
   "id": "aa1abd31",
   "metadata": {},
   "outputs": [],
   "source": [
    "connection_G3 = sf.Connection(pre=neurons_G3, post=neurons_G3, w = guassian_weight)"
   ]
  },
  {
   "cell_type": "code",
   "execution_count": 84,
   "id": "9fd6a8fd",
   "metadata": {},
   "outputs": [],
   "source": [
    "current = sin_current()"
   ]
  },
  {
   "cell_type": "code",
   "execution_count": 85,
   "id": "b07f2270",
   "metadata": {},
   "outputs": [],
   "source": [
    "population_inner_current, population, spikes, voltage = process(current['value'], connection_G3, neurons_G3)"
   ]
  },
  {
   "cell_type": "code",
   "execution_count": 86,
   "id": "01fa1120",
   "metadata": {},
   "outputs": [
    {
     "data": {
      "text/plain": [
       "tensor([0., 0., 0., 0., 0., 0., 0., 0., 0., 0., 0., 0., 0., 0., 0.])"
      ]
     },
     "execution_count": 86,
     "metadata": {},
     "output_type": "execute_result"
    }
   ],
   "source": [
    "population_inner_current"
   ]
  },
  {
   "cell_type": "code",
   "execution_count": 87,
   "id": "26934526",
   "metadata": {},
   "outputs": [
    {
     "data": {
      "image/png": "[encoded data removed]",
      "text/plain": [
       "<Figure size 432x288 with 1 Axes>"
      ]
     },
     "metadata": {
      "needs_background": "light"
     },
     "output_type": "display_data"
    }
   ],
   "source": [
    "sf.raster_plot(spikes, dt = 0.05)"
   ]
  },
  {
   "attachments": {},
   "cell_type": "markdown",
   "id": "86ec179e",
   "metadata": {},
   "source": [
    "## ALL to ALL connection scaling with number of neurons"
   ]
  },
  {
   "cell_type": "code",
   "execution_count": 88,
   "id": "239e0ecc",
   "metadata": {},
   "outputs": [],
   "source": [
    "J0 = 5\n",
    "N = 15"
   ]
  },
  {
   "cell_type": "code",
   "execution_count": 89,
   "id": "746731ef",
   "metadata": {},
   "outputs": [],
   "source": [
    "weights = torch.stack([torch.tensor([J0 / N] * N) for _ in range(N)], dim = 1)"
   ]
  },
  {
   "attachments": {},
   "cell_type": "markdown",
   "id": "0a7322f6",
   "metadata": {},
   "source": [
    "we will start with constant current."
   ]
  },
  {
   "cell_type": "code",
   "execution_count": 90,
   "id": "f9b04234",
   "metadata": {},
   "outputs": [],
   "source": [
    "current = constant_cuurent()"
   ]
  },
  {
   "cell_type": "code",
   "execution_count": 91,
   "id": "c8601145",
   "metadata": {},
   "outputs": [],
   "source": [
    "dt = 1"
   ]
  },
  {
   "cell_type": "code",
   "execution_count": 92,
   "id": "95cd0537",
   "metadata": {},
   "outputs": [],
   "source": [
    "neurons_A1 = sf.LIFPopulation(n = N, dt = dt)"
   ]
  },
  {
   "cell_type": "code",
   "execution_count": 93,
   "id": "e39daac8",
   "metadata": {},
   "outputs": [],
   "source": [
    "connection_A1 = sf.Connection(pre =neurons_A1, post = neurons_A1, w = weights)"
   ]
  },
  {
   "cell_type": "code",
   "execution_count": 94,
   "id": "7e194308",
   "metadata": {},
   "outputs": [],
   "source": [
    "population_inner_current, population, spikes, voltage = process(current, connection_A1, neurons_A1)"
   ]
  },
  {
   "cell_type": "code",
   "execution_count": 95,
   "id": "c1ee526c",
   "metadata": {},
   "outputs": [
    {
     "data": {
      "text/plain": [
       "tensor([0., 0., 0., 0., 0., 0., 0., 0., 0., 0., 0., 0., 0., 0., 0.])"
      ]
     },
     "execution_count": 95,
     "metadata": {},
     "output_type": "execute_result"
    }
   ],
   "source": [
    "population_inner_current"
   ]
  },
  {
   "cell_type": "code",
   "execution_count": 96,
   "id": "0f59c4dd",
   "metadata": {},
   "outputs": [
    {
     "data": {
      "image/png": "[encoded data removed]",
      "text/plain": [
       "<Figure size 432x288 with 1 Axes>"
      ]
     },
     "metadata": {
      "needs_background": "light"
     },
     "output_type": "display_data"
    }
   ],
   "source": [
    "sf.raster_plot(spikes, dt = 1)"
   ]
  },
  {
   "attachments": {},
   "cell_type": "markdown",
   "id": "35012742",
   "metadata": {},
   "source": [
    "### step current"
   ]
  },
  {
   "cell_type": "code",
   "execution_count": 97,
   "id": "5648eebc",
   "metadata": {},
   "outputs": [],
   "source": [
    "neurons_A2 = sf.LIFPopulation(n = 15, refrac_length=0, dt = 0.05)"
   ]
  },
  {
   "cell_type": "code",
   "execution_count": 98,
   "id": "4d09273f",
   "metadata": {},
   "outputs": [],
   "source": [
    "connection_A2 = sf.Connection(pre = neurons_A2, post=neurons_A2, w = weights)"
   ]
  },
  {
   "cell_type": "code",
   "execution_count": 99,
   "id": "bde60599",
   "metadata": {},
   "outputs": [],
   "source": [
    "current = step_current()"
   ]
  },
  {
   "cell_type": "code",
   "execution_count": 100,
   "id": "fcbc61aa",
   "metadata": {},
   "outputs": [],
   "source": [
    "population_inner_current, population, spikes, voltage = process(current['value'], connection_A2, neurons_A2)"
   ]
  },
  {
   "cell_type": "code",
   "execution_count": 101,
   "id": "0e34c603",
   "metadata": {},
   "outputs": [
    {
     "data": {
      "image/png": "[encoded data removed]",
      "text/plain": [
       "<Figure size 432x288 with 1 Axes>"
      ]
     },
     "metadata": {
      "needs_background": "light"
     },
     "output_type": "display_data"
    }
   ],
   "source": [
    "sf.raster_plot(spikes, dt = 0.05)"
   ]
  },
  {
   "attachments": {},
   "cell_type": "markdown",
   "id": "4e60ade4",
   "metadata": {},
   "source": [
    "### sin connection"
   ]
  },
  {
   "cell_type": "code",
   "execution_count": 102,
   "id": "76df5a27",
   "metadata": {},
   "outputs": [],
   "source": [
    "neurons_A3 = sf.LIFPopulation(n = 15, refrac_length=0, dt = 0.05)"
   ]
  },
  {
   "cell_type": "code",
   "execution_count": 103,
   "id": "1beebd68",
   "metadata": {},
   "outputs": [],
   "source": [
    "connection_A3 = sf.Connection(pre = neurons_A3, post=neurons_A3, w = weights)"
   ]
  },
  {
   "cell_type": "code",
   "execution_count": 104,
   "id": "1620dba2",
   "metadata": {},
   "outputs": [],
   "source": [
    "current = sin_current()"
   ]
  },
  {
   "cell_type": "code",
   "execution_count": 105,
   "id": "acbda244",
   "metadata": {},
   "outputs": [],
   "source": [
    "population_inner_current, population, spikes, voltage = process(current['value'], connection_A3, neurons_A3)"
   ]
  },
  {
   "cell_type": "code",
   "execution_count": 106,
   "id": "fed59deb",
   "metadata": {},
   "outputs": [
    {
     "data": {
      "image/png": "[encoded data removed]",
      "text/plain": [
       "<Figure size 432x288 with 1 Axes>"
      ]
     },
     "metadata": {
      "needs_background": "light"
     },
     "output_type": "display_data"
    }
   ],
   "source": [
    "sf.raster_plot(spikes, dt = 0.05)"
   ]
  },
  {
   "attachments": {},
   "cell_type": "markdown",
   "id": "5a5ac4c4",
   "metadata": {},
   "source": [
    "# Random connection with constant number of connections"
   ]
  },
  {
   "cell_type": "code",
   "execution_count": 116,
   "id": "a3eb0ee7",
   "metadata": {},
   "outputs": [],
   "source": [
    "import random"
   ]
  },
  {
   "cell_type": "code",
   "execution_count": 117,
   "id": "b09bbfab",
   "metadata": {},
   "outputs": [],
   "source": [
    "def generate_random():\n",
    "    temp = [random.uniform(0,1) for _ in range(5)] + [0] * 10\n",
    "    random.shuffle(temp)\n",
    "    return torch.tensor(temp)\n"
   ]
  },
  {
   "cell_type": "code",
   "execution_count": 118,
   "id": "ce92226e",
   "metadata": {},
   "outputs": [],
   "source": [
    "weight_tensors = torch.stack([generate_random() for _ in range(15)], dim = 1)"
   ]
  },
  {
   "attachments": {},
   "cell_type": "markdown",
   "id": "630fbfd8",
   "metadata": {},
   "source": [
    "### constant current"
   ]
  },
  {
   "cell_type": "code",
   "execution_count": 119,
   "id": "8c939df7",
   "metadata": {},
   "outputs": [],
   "source": [
    "neurons_R1 = sf.LIFPopulation(n = 15, refrac_length=3, dt = 1)"
   ]
  },
  {
   "cell_type": "code",
   "execution_count": 120,
   "id": "7f3fa017",
   "metadata": {},
   "outputs": [],
   "source": [
    "connection_R1 = sf.RandomConnection(pre = neurons_R1, post = neurons_R1, w= weight_tensors)"
   ]
  },
  {
   "cell_type": "code",
   "execution_count": 121,
   "id": "4f2941f9",
   "metadata": {},
   "outputs": [
    {
     "data": {
      "text/plain": [
       "Parameter containing:\n",
       "tensor([[0.0000, 0.0000, 0.8110, 0.3932, 0.8030, 0.9843, 0.0000, 0.0000, 0.0000,\n",
       "         0.0000, 0.6055, 0.0000, 0.0089, 0.0000, 0.7799],\n",
       "        [0.0000, 0.2572, 0.0000, 0.9140, 0.0000, 0.0000, 0.0000, 0.0000, 0.8340,\n",
       "         0.8341, 0.0000, 0.0000, 0.0000, 0.0000, 0.5499],\n",
       "        [0.0000, 0.0000, 0.0000, 0.6913, 0.6040, 0.0000, 0.9385, 0.0000, 0.0000,\n",
       "         0.0000, 0.0000, 0.0000, 0.5966, 0.0000, 0.0000],\n",
       "        [0.3306, 0.0000, 0.9095, 0.0000, 0.0000, 0.0000, 0.0000, 0.5340, 0.4437,\n",
       "         0.0000, 0.0000, 0.0000, 0.0000, 0.0000, 0.0000],\n",
       "        [0.0000, 0.0000, 0.2196, 0.0000, 0.0709, 0.0298, 0.6743, 0.0000, 0.7269,\n",
       "         0.0000, 0.6748, 0.9708, 0.0000, 0.5744, 0.7182],\n",
       "        [0.0000, 0.0000, 0.0000, 0.0000, 0.0000, 0.0000, 0.7432, 0.1205, 0.3539,\n",
       "         0.0000, 0.9458, 0.0000, 0.7038, 0.1578, 0.0000],\n",
       "        [0.2938, 0.0374, 0.0000, 0.6887, 0.2279, 0.0000, 0.2547, 0.5999, 0.7418,\n",
       "         0.0000, 0.0000, 0.0294, 0.0000, 0.0000, 0.0000],\n",
       "        [0.0000, 0.0000, 0.0000, 0.0000, 0.0000, 0.4862, 0.0000, 0.0000, 0.0000,\n",
       "         0.0000, 0.4657, 0.0000, 0.0000, 0.0000, 0.0708],\n",
       "        [0.0000, 0.0000, 0.0000, 0.0000, 0.8863, 0.7551, 0.0000, 0.0000, 0.0000,\n",
       "         0.0000, 0.0000, 0.0000, 0.0000, 0.0000, 0.0000],\n",
       "        [0.1946, 0.0000, 0.5044, 0.0000, 0.0000, 0.2420, 0.0000, 0.0000, 0.0000,\n",
       "         0.1270, 0.0000, 0.0000, 0.0000, 0.0000, 0.0000],\n",
       "        [0.0000, 0.0000, 0.6531, 0.0000, 0.0000, 0.0000, 0.5999, 0.0000, 0.0000,\n",
       "         0.4881, 0.0000, 0.3160, 0.9215, 0.8330, 0.0000],\n",
       "        [0.0000, 0.1371, 0.0000, 0.0000, 0.0000, 0.0000, 0.0000, 0.5936, 0.0000,\n",
       "         0.5464, 0.0000, 0.0000, 0.9099, 0.2597, 0.0000],\n",
       "        [0.0000, 0.0000, 0.0000, 0.7544, 0.0000, 0.0000, 0.0000, 0.0000, 0.0000,\n",
       "         0.0000, 0.6757, 0.0000, 0.0000, 0.0000, 0.0000],\n",
       "        [0.9460, 0.0284, 0.0000, 0.0000, 0.0000, 0.0000, 0.0000, 0.8651, 0.0000,\n",
       "         0.0000, 0.0000, 0.6949, 0.0000, 0.0000, 0.0000],\n",
       "        [0.8143, 0.8241, 0.0000, 0.0000, 0.0000, 0.0000, 0.0000, 0.0000, 0.0000,\n",
       "         0.7844, 0.0000, 0.1996, 0.0000, 0.3151, 0.7174]])"
      ]
     },
     "execution_count": 121,
     "metadata": {},
     "output_type": "execute_result"
    }
   ],
   "source": [
    "connection_R1.w"
   ]
  },
  {
   "cell_type": "code",
   "execution_count": 122,
   "id": "ca03087f",
   "metadata": {},
   "outputs": [],
   "source": [
    "current = constant_cuurent()"
   ]
  },
  {
   "cell_type": "code",
   "execution_count": 123,
   "id": "7b98fabe",
   "metadata": {},
   "outputs": [],
   "source": [
    "population_inner_current, population, spikes, voltage = process(current, connection_R1, neurons_R1)"
   ]
  },
  {
   "cell_type": "code",
   "execution_count": 124,
   "id": "65b5e4cd",
   "metadata": {},
   "outputs": [
    {
     "data": {
      "image/png": "[encoded data removed]",
      "text/plain": [
       "<Figure size 432x288 with 1 Axes>"
      ]
     },
     "metadata": {
      "needs_background": "light"
     },
     "output_type": "display_data"
    }
   ],
   "source": [
    "sf.raster_plot(spikes, dt = 1)"
   ]
  },
  {
   "attachments": {},
   "cell_type": "markdown",
   "id": "bcd6f979",
   "metadata": {},
   "source": [
    "### step current"
   ]
  },
  {
   "cell_type": "code",
   "execution_count": 125,
   "id": "d2976604",
   "metadata": {},
   "outputs": [],
   "source": [
    "neurons_R2 = sf.LIFPopulation(n = 15, dt = 0.05, refrac_length=3)"
   ]
  },
  {
   "cell_type": "code",
   "execution_count": 130,
   "id": "8e0feb09",
   "metadata": {},
   "outputs": [],
   "source": [
    "current = step_current()"
   ]
  },
  {
   "cell_type": "code",
   "execution_count": 131,
   "id": "0e593e6f",
   "metadata": {},
   "outputs": [],
   "source": [
    "connection_R2 = sf.RandomConnection(pre = neurons_R2, post = neurons_R2, w = weight_tensors)"
   ]
  },
  {
   "cell_type": "code",
   "execution_count": 132,
   "id": "4e1e62bf",
   "metadata": {},
   "outputs": [],
   "source": [
    "population_inner_current, population, spikes, voltage = process(current['value'], connection_R2, neurons_R2)"
   ]
  },
  {
   "cell_type": "code",
   "execution_count": 133,
   "id": "6d4d964d",
   "metadata": {},
   "outputs": [
    {
     "data": {
      "image/png": "[encoded data removed]",
      "text/plain": [
       "<Figure size 432x288 with 1 Axes>"
      ]
     },
     "metadata": {
      "needs_background": "light"
     },
     "output_type": "display_data"
    }
   ],
   "source": [
    "sf.raster_plot(spikes, dt = 0.05)"
   ]
  },
  {
   "attachments": {},
   "cell_type": "markdown",
   "id": "97cff44d",
   "metadata": {},
   "source": [
    "### sin current "
   ]
  },
  {
   "cell_type": "code",
   "execution_count": 134,
   "id": "9d1abe13",
   "metadata": {},
   "outputs": [],
   "source": [
    "neurons_R3 = sf.LIFPopulation(n = 15, dt = 0.05, refrac_length=3)"
   ]
  },
  {
   "cell_type": "code",
   "execution_count": 139,
   "id": "9541ab3f",
   "metadata": {},
   "outputs": [],
   "source": [
    "connection_R3 = sf.RandomConnection(pre=neurons_R3, post=neurons_R3, w = weight_tensors)"
   ]
  },
  {
   "cell_type": "code",
   "execution_count": 140,
   "id": "b94a7a2d",
   "metadata": {},
   "outputs": [],
   "source": [
    "current = sin_current()"
   ]
  },
  {
   "cell_type": "code",
   "execution_count": 141,
   "id": "9bc84bfb",
   "metadata": {},
   "outputs": [],
   "source": [
    "population_inner_current, population, spikes, voltage = process(current['value'], connection_R3, neurons_R3)"
   ]
  },
  {
   "cell_type": "code",
   "execution_count": 142,
   "id": "3cf541ca",
   "metadata": {},
   "outputs": [
    {
     "data": {
      "image/png": "[encoded data removed]",
      "text/plain": [
       "<Figure size 432x288 with 1 Axes>"
      ]
     },
     "metadata": {
      "needs_background": "light"
     },
     "output_type": "display_data"
    }
   ],
   "source": [
    "sf.raster_plot(spikes, dt = 0.05)"
   ]
  },
  {
   "attachments": {},
   "cell_type": "markdown",
   "id": "90231858",
   "metadata": {},
   "source": [
    "# Question 2"
   ]
  },
  {
   "cell_type": "code",
   "execution_count": 1,
   "id": "07731e45",
   "metadata": {},
   "outputs": [],
   "source": [
    "import torch\n",
    "import synapticflow as sf\n",
    "import math\n",
    "import numpy as np\n",
    "import random"
   ]
  },
  {
   "cell_type": "code",
   "execution_count": 2,
   "id": "1c40d367",
   "metadata": {},
   "outputs": [],
   "source": [
    "# generate the popolations \n",
    "population_E1, population_E2 = sf.LIFPopulation(n = 5, refrac_length=3, dt = 1, tau_s=10), sf.LIFPopulation(n = 5, refrac_length=2, dt = 1, tau_s=10)\n",
    "population_I = sf.LIFPopulation(n = 5,tau_s=1,dt = 1, refrac_length=1, is_inhibitory=True)"
   ]
  },
  {
   "cell_type": "code",
   "execution_count": 3,
   "id": "e314a39b",
   "metadata": {},
   "outputs": [
    {
     "data": {
      "text/plain": [
       "tensor([True, True, True, True, True])"
      ]
     },
     "execution_count": 3,
     "metadata": {},
     "output_type": "execute_result"
    }
   ],
   "source": [
    "population_I.forward(torch.tensor(1))\n",
    "population_I.s"
   ]
  },
  {
   "cell_type": "code",
   "execution_count": 4,
   "id": "15ba8e20",
   "metadata": {},
   "outputs": [],
   "source": [
    "#set the connections between the individual population neurons(normal weights)\n",
    "connection_I = sf.Connection(pre = population_I, post=population_I)\n",
    "connection_E1 = sf.Connection(pre = population_E1, post=population_E1)\n",
    "connection_E2 = sf.Connection(pre=population_E2, post = population_E2)"
   ]
  },
  {
   "cell_type": "code",
   "execution_count": 5,
   "id": "826902c1",
   "metadata": {},
   "outputs": [
    {
     "data": {
      "text/plain": [
       "tensor([[0.3300, 0.2238, 0.7427, 0.4236, 0.0558],\n",
       "        [0.0690, 0.3903, 0.7377, 0.3423, 0.4433],\n",
       "        [0.5526, 0.7588, 0.2685, 0.8100, 0.2839],\n",
       "        [0.5058, 0.5816, 0.2193, 0.5716, 0.2380],\n",
       "        [0.1538, 0.4283, 0.8633, 0.8981, 0.5766]])"
      ]
     },
     "execution_count": 5,
     "metadata": {},
     "output_type": "execute_result"
    }
   ],
   "source": [
    "torch.clamp(torch.rand(5, 5), float('-inf'), float('inf'))"
   ]
  },
  {
   "cell_type": "code",
   "execution_count": 6,
   "id": "f50a6630",
   "metadata": {},
   "outputs": [],
   "source": [
    "inhibitory_weight = torch.clamp(-1 * torch.rand(5, 5), float('-inf'), float(0))"
   ]
  },
  {
   "cell_type": "code",
   "execution_count": 7,
   "id": "1d8455c6",
   "metadata": {},
   "outputs": [
    {
     "data": {
      "text/plain": [
       "tensor([[-0.5126, -0.1082, -0.8032, -0.3914, -0.7105],\n",
       "        [-0.3402, -0.3060, -0.7858, -0.9782, -0.8862],\n",
       "        [-0.4994, -0.7714, -0.9429, -0.9864, -0.7317],\n",
       "        [-0.4587, -0.6270, -0.2194, -0.8950, -0.3434],\n",
       "        [-0.6915, -0.2661, -0.1181, -0.5592, -0.3454]])"
      ]
     },
     "execution_count": 7,
     "metadata": {},
     "output_type": "execute_result"
    }
   ],
   "source": [
    "inhibitory_weight"
   ]
  },
  {
   "cell_type": "code",
   "execution_count": 8,
   "id": "1a5f63cc",
   "metadata": {},
   "outputs": [],
   "source": [
    "# set the connection with other neurons populations\n",
    "connection_IE1 = sf.Connection(pre = population_I, post = population_E1)\n",
    "connection_EI1 = sf.Connection(pre = population_E1, post=population_I)\n",
    "connection_IE2 = sf.Connection(pre = population_I, post=population_E2)\n",
    "connection_EI2 = sf.Connection(pre = population_E2, post = population_I)"
   ]
  },
  {
   "cell_type": "code",
   "execution_count": 9,
   "id": "a8d3a241",
   "metadata": {},
   "outputs": [],
   "source": [
    "def process(current1 , current2, population_E1, population_E2, population_I, connection_E1, connection_E2, \n",
    "            connection_EI1, connection_EI2, connection_IE1, connection_IE2):\n",
    "    # some list the store spikes data\n",
    "    spikes_E1 = []\n",
    "    spikes_E2 = []\n",
    "    spikes_I = []\n",
    "    # the inner communication of neurons\n",
    "    inner_currentE1 = torch.zeros_like(torch.tensor([0] * 5))\n",
    "    inner_currentE2 = torch.zeros_like(torch.tensor([0] * 5))\n",
    "    inner_current_IE1 = torch.zeros_like(torch.tensor([0] * 5))\n",
    "    inner_current_IE2 = torch.zeros_like(torch.tensor([0] * 5))\n",
    "    inner_current_EI1 = torch.zeros_like(torch.tensor([0] * 5))\n",
    "    inner_current_EI2 = torch.zeros_like(torch.tensor([0] * 5))\n",
    "    for i in range(len(current1)):\n",
    "        # E1\n",
    "        curr1 = torch.tensor([current1[i]] * 5) + inner_currentE1 - inner_current_IE1 # pass the currents in first ecxitatory population\n",
    "        population_E1.forward(curr1)\n",
    "        spikes_e1 = population_E1.s\n",
    "        inner_currentE1 = connection_E1.compute(spikes_e1)\n",
    "        spikes_E1.append(spikes_e1)\n",
    "        # E2\n",
    "        curr2 = torch.tensor([current2[i]] * 5) + inner_currentE2 - inner_current_IE2 # second ecxitataory population\n",
    "        population_E2.forward(curr2)\n",
    "        spikes_e2 = population_E2.s\n",
    "        inner_currentE2 = connection_E2.compute(spikes_e2)\n",
    "        spikes_E2.append(spikes_e2)\n",
    "        # EI1\n",
    "        inner_current_EI1 = connection_EI1.compute(spikes_e1)\n",
    "        inner_current_EI2 = connection_EI2.compute(spikes_e2)\n",
    "        curr3 = inner_current_EI1 + inner_current_EI2 # calculating the inhibitory population input current\n",
    "        population_I.forward(curr3)\n",
    "        spikes_i = population_I.s\n",
    "        spikes_I.append(spikes_i)\n",
    "        inner_current_IE1 = connection_IE1.compute(spikes_i)\n",
    "        inner_current_IE2 = connection_IE2.compute(spikes_i)\n",
    "    return spikes_E1, spikes_E2, spikes_I"
   ]
  },
  {
   "cell_type": "code",
   "execution_count": 20,
   "id": "acd45283",
   "metadata": {},
   "outputs": [],
   "source": [
    "# generating current\n",
    "current1 = [5] * 250\n",
    "current2 = [5] * 250\n",
    "random_noise = 0\n",
    "random_noise2 = 0\n",
    "for i in range(len(current1)):\n",
    "    if i % 50 != 0:\n",
    "        current1[i] += random_noise\n",
    "        current2[i] += random_noise2\n",
    "    else:\n",
    "        random_noise = random.uniform(-5, 5)\n",
    "        random_noise2 = random.uniform(-5, 5)"
   ]
  },
  {
   "cell_type": "code",
   "execution_count": 22,
   "id": "2192f328",
   "metadata": {},
   "outputs": [],
   "source": [
    "x1, x2, x3 = process(current1, current2, population_E1, population_E2, population_I, connection_E1, connection_E2, \n",
    "                     connection_EI1, connection_EI2, connection_IE1, connection_EI2)"
   ]
  },
  {
   "cell_type": "code",
   "execution_count": 23,
   "id": "28a5e3b6",
   "metadata": {},
   "outputs": [
    {
     "data": {
      "image/png": "[encoded data removed]",
      "text/plain": [
       "<Figure size 432x288 with 1 Axes>"
      ]
     },
     "metadata": {
      "needs_background": "light"
     },
     "output_type": "display_data"
    },
    {
     "data": {
      "image/png": "[encoded data removed]",
      "text/plain": [
       "<Figure size 432x288 with 1 Axes>"
      ]
     },
     "metadata": {
      "needs_background": "light"
     },
     "output_type": "display_data"
    },
    {
     "data": {
      "image/png": "[encoded data removed]",
      "text/plain": [
       "<Figure size 432x288 with 1 Axes>"
      ]
     },
     "metadata": {
      "needs_background": "light"
     },
     "output_type": "display_data"
    },
    {
     "data": {
      "text/plain": [
       "(None, None, None)"
      ]
     },
     "execution_count": 23,
     "metadata": {},
     "output_type": "execute_result"
    }
   ],
   "source": [
    "sf.raster_plot(x1, dt = 1), sf.raster_plot(x2, dt = 1), sf.raster_plot(x3, dt = 1)"
   ]
  },
  {
   "attachments": {},
   "cell_type": "markdown",
   "id": "3ee5da74",
   "metadata": {},
   "source": [
    "# Question 3"
   ]
  },
  {
   "cell_type": "code",
   "execution_count": 115,
   "id": "6c1d22f5",
   "metadata": {},
   "outputs": [],
   "source": [
    "import synapticflow as sf \n",
    "import torch\n",
    "import matplotlib.pyplot as plt\n",
    "import math\n",
    "import numpy as np"
   ]
  },
  {
   "attachments": {},
   "cell_type": "markdown",
   "id": "dbedbf9c",
   "metadata": {},
   "source": [
    "# Poission encoding"
   ]
  },
  {
   "cell_type": "code",
   "execution_count": 116,
   "id": "c2f292c7",
   "metadata": {},
   "outputs": [],
   "source": [
    "current = [10] * 10"
   ]
  },
  {
   "cell_type": "code",
   "execution_count": 117,
   "id": "287d6908",
   "metadata": {},
   "outputs": [],
   "source": [
    "def process_1(input_curr, connection, population):\n",
    "    inner_current = torch.zeros_like(torch.tensor([0] * population.n))\n",
    "    spikes_n = []\n",
    "    voltage_n = []\n",
    "    for current in input_curr:\n",
    "        curr = torch.tensor([current] * population.n) + inner_current\n",
    "        population.forward(curr)\n",
    "        spikes = population.s\n",
    "        voltage_n.append(population.v)\n",
    "        spikes_n.append(spikes)\n",
    "        inner_current = connection.compute(spikes)\n",
    "    return spikes_n"
   ]
  },
  {
   "cell_type": "code",
   "execution_count": 118,
   "id": "89760054",
   "metadata": {},
   "outputs": [],
   "source": [
    "neurons = sf.LIFPopulation(n = 2, R = 20, tau_s=10, refrac_length=1, dt = 1)\n",
    "connection = sf.Connection(pre=neurons, post=neurons)"
   ]
  },
  {
   "cell_type": "code",
   "execution_count": 119,
   "id": "96facc1d",
   "metadata": {},
   "outputs": [],
   "source": [
    "spikes = process_1(current,connection, neurons)"
   ]
  },
  {
   "cell_type": "code",
   "execution_count": 120,
   "id": "1b9cf29d",
   "metadata": {},
   "outputs": [
    {
     "name": "stderr",
     "output_type": "stream",
     "text": [
      "C:\\Users\\kara\\AppData\\Local\\Temp\\ipykernel_1216\\461611717.py:1: UserWarning: To copy construct from a tensor, it is recommended to use sourceTensor.clone().detach() or sourceTensor.clone().detach().requires_grad_(True), rather than torch.tensor(sourceTensor).\n",
      "  spikes_1 = torch.vstack([torch.tensor(spike) for spike in spikes])\n"
     ]
    }
   ],
   "source": [
    "spikes_1 = torch.vstack([torch.tensor(spike) for spike in spikes])"
   ]
  },
  {
   "cell_type": "code",
   "execution_count": 121,
   "id": "573d182a",
   "metadata": {},
   "outputs": [],
   "source": [
    "def poisson_encoding(rate, duration, time_step):\n",
    "    time = np.arange(0, duration, time_step)\n",
    "    num_steps = len(time)\n",
    "    spike_train = []\n",
    "    for i in range(num_steps):\n",
    "        spikes = []\n",
    "        spikes.append([np.random.poisson(rate[0] * time_step),np.random.poisson(rate[1] * time_step)]) \n",
    "        spike_train.append(spikes[0])\n",
    "    \n",
    "    return spike_train"
   ]
  },
  {
   "cell_type": "code",
   "execution_count": 122,
   "id": "774e93d9",
   "metadata": {},
   "outputs": [],
   "source": [
    "rates = [spikes_1[:, 0].sum() / 10, spikes_1[:, 0].sum() / 10]"
   ]
  },
  {
   "cell_type": "code",
   "execution_count": 129,
   "id": "bd346803",
   "metadata": {},
   "outputs": [],
   "source": [
    "encoded_spikes = poisson_encoding(rates, 10, 1)"
   ]
  },
  {
   "cell_type": "code",
   "execution_count": 130,
   "id": "959672ea",
   "metadata": {},
   "outputs": [
    {
     "data": {
      "image/png": "[encoded data removed]",
      "text/plain": [
       "<Figure size 432x288 with 1 Axes>"
      ]
     },
     "metadata": {
      "needs_background": "light"
     },
     "output_type": "display_data"
    }
   ],
   "source": [
    "sf.raster_plot(encoded_spikes, dt = 1)"
   ]
  },
  {
   "attachments": {},
   "cell_type": "markdown",
   "id": "a1b06fe2",
   "metadata": {},
   "source": [
    "# Time to first spike encoding with constant current"
   ]
  },
  {
   "attachments": {},
   "cell_type": "markdown",
   "id": "bfddea63",
   "metadata": {},
   "source": [
    "in this encoding method, we can pass to function the desired time interval for calculating time to first spike of each neuron and it retuns the encoded spikes."
   ]
  },
  {
   "cell_type": "code",
   "execution_count": 149,
   "id": "81555653",
   "metadata": {},
   "outputs": [],
   "source": [
    "current = [10] * 10"
   ]
  },
  {
   "cell_type": "code",
   "execution_count": 135,
   "id": "e64e359c",
   "metadata": {},
   "outputs": [],
   "source": [
    "import numpy as np\n",
    "\n",
    "def time_to_first_spike_encoding(time_to_first_spike, duration, dt):\n",
    "    time = np.arange(0, duration, dt)  # Time vector\n",
    "    spike_train = time <= time_to_first_spike  # Generate spike train based on time-to-first-spike\n",
    "\n",
    "    return spike_train\n",
    "\n",
    "neuron_time_to_first_spikes = [0.2, 0.3]\n",
    "\n",
    "duration = 10 \n",
    "dt = 1 \n",
    "\n",
    "population_spike_trains = []\n",
    "for time_to_first_spike in neuron_time_to_first_spikes:\n",
    "    spike_train = time_to_first_spike_encoding(time_to_first_spike, duration, dt)\n",
    "    population_spike_trains.append(spike_train)"
   ]
  },
  {
   "cell_type": "code",
   "execution_count": 147,
   "id": "9baa3dc8",
   "metadata": {},
   "outputs": [
    {
     "data": {
      "text/plain": [
       "<matplotlib.collections.PathCollection at 0x260629b6470>"
      ]
     },
     "execution_count": 147,
     "metadata": {},
     "output_type": "execute_result"
    },
    {
     "data": {
      "image/png": "[encoded data removed]",
      "text/plain": [
       "<Figure size 432x288 with 1 Axes>"
      ]
     },
     "metadata": {
      "needs_background": "light"
     },
     "output_type": "display_data"
    }
   ],
   "source": [
    "plt.scatter(x = np.arange(10), y = population_spike_trains[0], marker='|')"
   ]
  },
  {
   "cell_type": "code",
   "execution_count": 148,
   "id": "6cd6d7f0",
   "metadata": {},
   "outputs": [
    {
     "data": {
      "text/plain": [
       "<matplotlib.collections.PathCollection at 0x26062a17a00>"
      ]
     },
     "execution_count": 148,
     "metadata": {},
     "output_type": "execute_result"
    },
    {
     "data": {
      "image/png": "[encoded data removed]",
      "text/plain": [
       "<Figure size 432x288 with 1 Axes>"
      ]
     },
     "metadata": {
      "needs_background": "light"
     },
     "output_type": "display_data"
    }
   ],
   "source": [
    "plt.scatter(x = np.arange(10), y = population_spike_trains[1], marker='|')"
   ]
  },
  {
   "attachments": {},
   "cell_type": "markdown",
   "id": "9c4016ee",
   "metadata": {},
   "source": [
    "# Rank order encoding"
   ]
  },
  {
   "attachments": {},
   "cell_type": "markdown",
   "id": "1eaa766e",
   "metadata": {},
   "source": [
    "in this method we should pass a desired order that we want to code of our spikes to function"
   ]
  },
  {
   "cell_type": "code",
   "execution_count": 150,
   "id": "43d2729c",
   "metadata": {},
   "outputs": [],
   "source": [
    "def rank_order_encoding(input_values, num_neurons):\n",
    "    sorted_indices = np.argsort(input_values)\n",
    "    spike_trains = []\n",
    "\n",
    "    for i in range(num_neurons):\n",
    "        spike_train = np.zeros_like(input_values)\n",
    "        spike_train[sorted_indices[i]] = 1\n",
    "        spike_trains.append(spike_train)\n",
    "\n",
    "    return spike_trains"
   ]
  },
  {
   "cell_type": "code",
   "execution_count": 151,
   "id": "3890760b",
   "metadata": {},
   "outputs": [],
   "source": [
    "order_list = [0, 1, 2, 3, 4]\n",
    "encoded_spikes = rank_order_encoding(order_list, 5)"
   ]
  },
  {
   "cell_type": "code",
   "execution_count": 154,
   "id": "b36ccfd2",
   "metadata": {},
   "outputs": [
    {
     "data": {
      "text/plain": [
       "[array([1, 0, 0, 0, 0]),\n",
       " array([0, 1, 0, 0, 0]),\n",
       " array([0, 0, 1, 0, 0]),\n",
       " array([0, 0, 0, 1, 0]),\n",
       " array([0, 0, 0, 0, 1])]"
      ]
     },
     "execution_count": 154,
     "metadata": {},
     "output_type": "execute_result"
    }
   ],
   "source": [
    "encoded_spikes"
   ]
  },
  {
   "attachments": {},
   "cell_type": "markdown",
   "id": "2fc25034",
   "metadata": {},
   "source": [
    "as we can see in matrix below, our spikes ordered by an ascending order."
   ]
  },
  {
   "cell_type": "markdown",
   "id": "f94ececb",
   "metadata": {},
   "source": []
  }
 ],
 "metadata": {
  "kernelspec": {
   "display_name": "Python 3 (ipykernel)",
   "language": "python",
   "name": "python3"
  },
  "language_info": {
   "codemirror_mode": {
    "name": "ipython",
    "version": 3
   },
   "file_extension": ".py",
   "mimetype": "text/x-python",
   "name": "python",
   "nbconvert_exporter": "python",
   "pygments_lexer": "ipython3",
   "version": "3.10.7"
  }
 },
 "nbformat": 4,
 "nbformat_minor": 5
}
