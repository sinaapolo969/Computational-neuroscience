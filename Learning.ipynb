{
 "cells": [
  {
   "cell_type": "code",
   "execution_count": 1,
   "metadata": {},
   "outputs": [],
   "source": [
    "import synapticflow as sf\n",
    "import numpy as np \n",
    "import random\n",
    "import torch"
   ]
  },
  {
   "attachments": {},
   "cell_type": "markdown",
   "metadata": {},
   "source": [
    "### generate connections"
   ]
  },
  {
   "cell_type": "code",
   "execution_count": 2,
   "metadata": {},
   "outputs": [],
   "source": [
    "input_layer = sf.LIFPopulation(n = 4, refrac_length=0, dt = 1)\n",
    "output_layer = sf.LIFPopulation(n = 10, refrac_length=0, dt = 1)"
   ]
  },
  {
   "cell_type": "code",
   "execution_count": 3,
   "metadata": {},
   "outputs": [],
   "source": [
    "network = sf.Connection(pre = input_layer, post = output_layer, w_min = 1, w_max = 10)"
   ]
  },
  {
   "cell_type": "code",
   "execution_count": 4,
   "metadata": {},
   "outputs": [],
   "source": [
    "def BCDConversion(n) :\n",
    "\n",
    "\tif (n == 0) :\n",
    "\t\treturn [0, 0, 0, 0]\n",
    "\n",
    "\trev = 0\n",
    "\twhile (n > 0) :\n",
    "\n",
    "\t\trev = rev * 10 + (n % 10)\n",
    "\t\tn = n // 10\n",
    "\t\t\n",
    "\twhile (rev > 0) :\n",
    "\n",
    "\t\tb = str(rev % 10)\n",
    "\t\t\n",
    "\t\tout = \"{0:04b}\".format(int(b, 16))\n",
    "        \n",
    "\t\trev = rev // 10\n",
    "\t\n",
    "\tnumber_list = list(out)\n",
    "\tfor i in range(len(number_list)):\n",
    "\t\tnumber_list[i] = int(number_list[i])\n",
    "\n",
    "\treturn number_list"
   ]
  },
  {
   "cell_type": "code",
   "execution_count": 5,
   "metadata": {},
   "outputs": [],
   "source": [
    "# function for generating the encoded current\n",
    "def input_encoding():\n",
    "    numbers = [0, 1, 2, 3, 4, 5, 6, 7, 8, 9]\n",
    "    random_sample = random.choice(numbers)\n",
    "    \n",
    "    encoded_current = BCDConversion(random_sample)\n",
    "    encoded_current = [i * 10 for i in encoded_current]\n",
    "   \n",
    "    return torch.tensor(encoded_current), random_sample"
   ]
  },
  {
   "cell_type": "code",
   "execution_count": 6,
   "metadata": {},
   "outputs": [],
   "source": [
    "def output_decoding(output):\n",
    "    res = []\n",
    "    for i in range(len(output)):\n",
    "        if output[i] == 1:\n",
    "            res.append(output[i] * i)\n",
    "    return res"
   ]
  },
  {
   "attachments": {},
   "cell_type": "markdown",
   "metadata": {},
   "source": [
    "## learning process"
   ]
  },
  {
   "cell_type": "code",
   "execution_count": 7,
   "metadata": {},
   "outputs": [],
   "source": [
    "def process(network, input_layer, output_layer, epochs):\n",
    "    learning = sf.MSTDP(lr = [0.0003, 0.0002], connection=network)\n",
    "\n",
    "    for i in range(epochs):\n",
    "        encoded_current, sample = input_encoding()\n",
    "        input_layer.forward(encoded_current)\n",
    "        input_spikes = input_layer.s\n",
    "        second_input = network.compute(input_spikes)\n",
    "        output_layer.forward(second_input)\n",
    "        out_spikes = output_layer.s\n",
    "        decoded_output = output_decoding(out_spikes)\n",
    "        input_layer.reset_state_variables()\n",
    "        output_layer.reset_state_variables()\n",
    "        network.reset_state_variables()\n",
    "        if len(decoded_output) == 0:\n",
    "            reward = -1000\n",
    "        elif len(decoded_output) == 1 and sample in decoded_output:\n",
    "            reward = 1000\n",
    "        else:\n",
    "            reward = -80\n",
    "\n",
    "        if (sample in decoded_output):\n",
    "            reward = 100 - ((len(decoded_output) - 1) * 10)\n",
    "        else:\n",
    "            reward = -90\n",
    "        learning.update(reward = reward)"
   ]
  },
  {
   "cell_type": "code",
   "execution_count": 8,
   "metadata": {},
   "outputs": [],
   "source": [
    "process(network, input_layer, output_layer, 1000000)"
   ]
  },
  {
   "attachments": {},
   "cell_type": "markdown",
   "metadata": {},
   "source": [
    "## testing model accuracy"
   ]
  },
  {
   "cell_type": "code",
   "execution_count": 9,
   "metadata": {},
   "outputs": [],
   "source": [
    "def model_accuracy(network, input_layer, output_layer):\n",
    "    predictions = {'exact': 0, 'semi_accurate': 0}\n",
    "    for i in range(10000):\n",
    "        input_current, sample = input_encoding()\n",
    "        input_layer.forward(input_current)\n",
    "        in_spikes = input_layer.s\n",
    "        second_input = network.compute(in_spikes)\n",
    "        output_layer.forward(second_input)\n",
    "        out_spikes = output_layer.s\n",
    "        decoded_output = output_decoding(out_spikes)\n",
    "        input_layer.reset_state_variables()\n",
    "        output_layer.reset_state_variables()\n",
    "        network.reset_state_variables()\n",
    "\n",
    "        if len(decoded_output) == 1 and sample in decoded_output:\n",
    "            predictions.update({'exact': predictions.get('exact') + 1})\n",
    "\n",
    "        if (sample in decoded_output):\n",
    "            predictions.update({'semi_accurate': \n",
    "            predictions.get('semi_accurate') + 1})\n",
    "    e_accuracy = predictions.get('exact') / 10000\n",
    "    s_accuracy = predictions.get('semi_accurate') / 10000\n",
    "    totall_accuracy = e_accuracy + s_accuracy\n",
    "    return e_accuracy, s_accuracy, totall_accuracy"
   ]
  },
  {
   "cell_type": "code",
   "execution_count": 11,
   "metadata": {},
   "outputs": [
    {
     "name": "stdout",
     "output_type": "stream",
     "text": [
      "model exact estimation accuracy : 0.0\n",
      "model semi_accurate percentage: 0.4887\n",
      "model total accuracy: 0.4887\n"
     ]
    }
   ],
   "source": [
    "e_accuracy, s_accuracy, total_accuracy = model_accuracy(network, input_layer, output_layer)\n",
    "print(f\"model exact estimation accuracy : {e_accuracy}\\n\" + \n",
    "      f\"model semi_accurate percentage: {s_accuracy}\\n\" + \n",
    "      f\"model total accuracy: {total_accuracy}\")"
   ]
  }
 ],
 "metadata": {
  "kernelspec": {
   "display_name": "Python 3",
   "language": "python",
   "name": "python3"
  },
  "language_info": {
   "codemirror_mode": {
    "name": "ipython",
    "version": 3
   },
   "file_extension": ".py",
   "mimetype": "text/x-python",
   "name": "python",
   "nbconvert_exporter": "python",
   "pygments_lexer": "ipython3",
   "version": "3.10.7"
  },
  "orig_nbformat": 4
 },
 "nbformat": 4,
 "nbformat_minor": 2
}
